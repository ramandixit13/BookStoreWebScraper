{
 "cells": [
  {
   "cell_type": "markdown",
   "metadata": {},
   "source": [
    "## Bookstore Web Scraper\n",
    "This notebook is a practice exercise in web scraping. It can scrape data from selected pages of http://books.toscrape.com/catalogue/.\n",
    "\n",
    "The user needs to provide a base url (http://books.toscrape.com/catalogue/ in this case) and pages to scrape.\n",
    "\n",
    "The function will return a Pandas dataframe of the scraped data (Rating, Book Name, Price of Book, In Stock)"
   ]
  },
  {
   "cell_type": "code",
   "execution_count": 5,
   "metadata": {},
   "outputs": [],
   "source": [
    "# Importing necessary modules\n",
    "import requests\n",
    "from bs4 import BeautifulSoup\n",
    "from collections import defaultdict\n",
    "from pandas import DataFrame"
   ]
  },
  {
   "cell_type": "markdown",
   "metadata": {},
   "source": [
    "### Main Function"
   ]
  },
  {
   "cell_type": "code",
   "execution_count": 10,
   "metadata": {},
   "outputs": [],
   "source": [
    "'''\n",
    "This is the main function. You provide it with the base url for the website (http://books.toscrape.com/catalogue/ in this case).\n",
    "and the page numbers you'd like to scrape from the website. It returns the scraped data in the form of a Pandas DataFrame\n",
    "'''\n",
    "def bookstore_scraper(base,*pages):\n",
    "    dataframe = defaultdict(list)\n",
    "    for page in range(pages[0],pages[1]+1):\n",
    "        url = generate_url(base,page)\n",
    "        data = connect_to_page(url)\n",
    "        rating_list,header_list,price_list,in_stock_list = scrape_page(data)\n",
    "        dataframe['rating_out_of_5'].extend(rating_list)\n",
    "        dataframe['name'].extend(header_list)\n",
    "        dataframe['price'].extend(price_list)\n",
    "        dataframe['in_stock'].extend(in_stock_list)\n",
    "    return DataFrame(dataframe)"
   ]
  },
  {
   "cell_type": "markdown",
   "metadata": {},
   "source": [
    "### Helper Functions"
   ]
  },
  {
   "cell_type": "code",
   "execution_count": 11,
   "metadata": {},
   "outputs": [],
   "source": [
    "'''\n",
    "This function appends /page-(page_number).html to the base url.\n",
    "Eg: generate_url('www.hello.com/',1) gives 'www.hello.com/page-1.html'\n",
    "'''\n",
    "def generate_url(base,page_number):\n",
    "    return base + f'page-{page_number}.html'\n",
    "\n",
    "\n",
    "'''\n",
    "This function requests a url for its HTML and returns the HTML content from the url\n",
    "'''\n",
    "def connect_to_page(url):\n",
    "    response = requests.get(url)\n",
    "    return BeautifulSoup(response.content)\n",
    "\n",
    "\n",
    "'''\n",
    "This function takes HTML content as input \"page\" and returns 4 lists of data (ratings,\n",
    "name, price, in stock)\n",
    "'''\n",
    "def scrape_page(page):\n",
    "    main_stuff = page.findAll('ol')\n",
    "    rating_list = []\n",
    "    header_list = []\n",
    "    price_list = []\n",
    "    in_stock_list = []\n",
    "    for ele in main_stuff:\n",
    "        for li in ele.findAll('li'):\n",
    "            rating = li.find('p', {'class':'star-rating'})['class'][1]\n",
    "            rating_list.append(rating)\n",
    "            header = li.findAll('a')[1]['title']\n",
    "            header_list.append(header)\n",
    "            price = li.find('p',{'class':'price_color'}).text\n",
    "            price_list.append(price)\n",
    "            in_stock = li.find('p',{'class':'instock availability'}).text.strip()\n",
    "            in_stock_list.append(in_stock)\n",
    "    return rating_list,header_list,price_list,in_stock_list  "
   ]
  },
  {
   "cell_type": "markdown",
   "metadata": {},
   "source": [
    "### Sample Usage\n",
    "Below, I've scraped data for pages 1 to 3 using the functions above"
   ]
  },
  {
   "cell_type": "code",
   "execution_count": 12,
   "metadata": {},
   "outputs": [
    {
     "data": {
      "text/html": [
       "<div>\n",
       "<style scoped>\n",
       "    .dataframe tbody tr th:only-of-type {\n",
       "        vertical-align: middle;\n",
       "    }\n",
       "\n",
       "    .dataframe tbody tr th {\n",
       "        vertical-align: top;\n",
       "    }\n",
       "\n",
       "    .dataframe thead th {\n",
       "        text-align: right;\n",
       "    }\n",
       "</style>\n",
       "<table border=\"1\" class=\"dataframe\">\n",
       "  <thead>\n",
       "    <tr style=\"text-align: right;\">\n",
       "      <th></th>\n",
       "      <th>rating_out_of_5</th>\n",
       "      <th>name</th>\n",
       "      <th>price</th>\n",
       "      <th>in_stock</th>\n",
       "    </tr>\n",
       "  </thead>\n",
       "  <tbody>\n",
       "    <tr>\n",
       "      <th>0</th>\n",
       "      <td>Three</td>\n",
       "      <td>A Light in the Attic</td>\n",
       "      <td>£51.77</td>\n",
       "      <td>In stock</td>\n",
       "    </tr>\n",
       "    <tr>\n",
       "      <th>1</th>\n",
       "      <td>One</td>\n",
       "      <td>Tipping the Velvet</td>\n",
       "      <td>£53.74</td>\n",
       "      <td>In stock</td>\n",
       "    </tr>\n",
       "    <tr>\n",
       "      <th>2</th>\n",
       "      <td>One</td>\n",
       "      <td>Soumission</td>\n",
       "      <td>£50.10</td>\n",
       "      <td>In stock</td>\n",
       "    </tr>\n",
       "    <tr>\n",
       "      <th>3</th>\n",
       "      <td>Four</td>\n",
       "      <td>Sharp Objects</td>\n",
       "      <td>£47.82</td>\n",
       "      <td>In stock</td>\n",
       "    </tr>\n",
       "    <tr>\n",
       "      <th>4</th>\n",
       "      <td>Five</td>\n",
       "      <td>Sapiens: A Brief History of Humankind</td>\n",
       "      <td>£54.23</td>\n",
       "      <td>In stock</td>\n",
       "    </tr>\n",
       "  </tbody>\n",
       "</table>\n",
       "</div>"
      ],
      "text/plain": [
       "  rating_out_of_5                                   name   price  in_stock\n",
       "0           Three                   A Light in the Attic  £51.77  In stock\n",
       "1             One                     Tipping the Velvet  £53.74  In stock\n",
       "2             One                             Soumission  £50.10  In stock\n",
       "3            Four                          Sharp Objects  £47.82  In stock\n",
       "4            Five  Sapiens: A Brief History of Humankind  £54.23  In stock"
      ]
     },
     "execution_count": 12,
     "metadata": {},
     "output_type": "execute_result"
    }
   ],
   "source": [
    "data = bookstore_scraper('http://books.toscrape.com/catalogue/',1,3)\n",
    "data.head()"
   ]
  }
 ],
 "metadata": {
  "kernelspec": {
   "display_name": "Python 3",
   "language": "python",
   "name": "python3"
  },
  "language_info": {
   "codemirror_mode": {
    "name": "ipython",
    "version": 3
   },
   "file_extension": ".py",
   "mimetype": "text/x-python",
   "name": "python",
   "nbconvert_exporter": "python",
   "pygments_lexer": "ipython3",
   "version": "3.7.3"
  }
 },
 "nbformat": 4,
 "nbformat_minor": 2
}
